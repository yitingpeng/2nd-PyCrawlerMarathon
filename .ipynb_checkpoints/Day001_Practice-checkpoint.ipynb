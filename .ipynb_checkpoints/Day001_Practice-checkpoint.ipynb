{
 "cells": [
  {
   "cell_type": "markdown",
   "metadata": {},
   "source": [
    "### 1. Python File I/O\n",
    "分成三種模式：\n",
    "    * read\n",
    "    * write\n",
    "    * append"
   ]
  },
  {
   "cell_type": "code",
   "execution_count": 1,
   "metadata": {},
   "outputs": [
    {
     "data": {
      "text/plain": [
       "('../2.txt', <http.client.HTTPMessage at 0x1890d3d29c8>)"
      ]
     },
     "execution_count": 1,
     "metadata": {},
     "output_type": "execute_result"
    }
   ],
   "source": [
    "from urllib.request import urlretrieve\n",
    "# 利用第三方套件(urllib)中的(urlretrieve)來下載檔案\n",
    "\n",
    "urlretrieve(\"https://www.w3.org/TR/PNG/iso_8859-1.txt\",\"./1.txt\")\n",
    "urlretrieve(\"https://www.w3.org/TR/PNG/iso_8859-1.txt\",\"../2.txt\")\n",
    "\n",
    "# urlretrieve(\"檔案網址\",\"存檔檔名\")\n",
    "# ../2.txt 存在上一層\n",
    "# ./1.txt 存在與這個文件同一層的地方"
   ]
  },
  {
   "cell_type": "code",
   "execution_count": 2,
   "metadata": {},
   "outputs": [
    {
     "name": "stdout",
     "output_type": "stream",
     "text": [
      ".git\n",
      ".ipynb_checkpoints\n",
      "01.ipynb\n",
      "1.txt\n",
      "Day001_HW.ipynb\n",
      "Day001_Sample.ipynb\n",
      "example-with.txt\n",
      "example.txt\n",
      "example1.txt\n",
      "example2.txt\n",
      "homework\n",
      "README.md\n",
      "dirs2\n",
      "01.pdf\n",
      "02.pdf\n",
      "03.pdf\n",
      "2.txt\n",
      "2nd-PyCrawlerMarathon\n"
     ]
    }
   ],
   "source": [
    "import os,sys\n",
    "\n",
    "#open doc(預設位置是跟.ipynb程式相同的目錄)\n",
    "dirs = os.listdir('./')\n",
    "#顯示所有文件\n",
    "for file in dirs:\n",
    "    print(file)\n",
    "    \n",
    "    \n",
    "print ('dirs2')    \n",
    "dirs2 = os.listdir('../')#上一層\n",
    "for file in dirs2:\n",
    "    print(file)"
   ]
  },
  {
   "cell_type": "markdown",
   "metadata": {},
   "source": [
    "### 寫入、讀取檔案"
   ]
  },
  {
   "cell_type": "code",
   "execution_count": 3,
   "metadata": {},
   "outputs": [
    {
     "name": "stdout",
     "output_type": "stream",
     "text": [
      "47\n"
     ]
    }
   ],
   "source": [
    "fh = open(\"example.txt\",\"w\")\n",
    "f = fh.write(\"TO write or not to write\\nThat is the question!\\n\")\n",
    "fh.close()\n",
    "\n",
    "print(f) #47個值"
   ]
  },
  {
   "cell_type": "code",
   "execution_count": 4,
   "metadata": {},
   "outputs": [
    {
     "name": "stdout",
     "output_type": "stream",
     "text": [
      "TO write or not to write\n",
      "That is the question!\n",
      "\n"
     ]
    }
   ],
   "source": [
    "#讀取檔案\n",
    "fh = open(\"example.txt\",\"r\")\n",
    "# open(\"檔名\",\"存取權限\")\n",
    "\n",
    "f = fh.read()\n",
    "fh.close()\n",
    "print(f)"
   ]
  },
  {
   "cell_type": "code",
   "execution_count": 5,
   "metadata": {},
   "outputs": [
    {
     "name": "stdout",
     "output_type": "stream",
     "text": [
      "47\n",
      "TO write or not to write\n",
      "That is the question!\n",
      "\n"
     ]
    }
   ],
   "source": [
    "with open(\"example-with.txt\",\"w\") as fh:\n",
    "    f = fh.write(\"TO write or not to write\\nThat is the question!\\n\")\n",
    "    print(f)\n",
    "    \n",
    "with open(\"example-with.txt\",\"r\") as fh:\n",
    "    f = fh.read()\n",
    "    print(f)"
   ]
  },
  {
   "cell_type": "markdown",
   "metadata": {},
   "source": [
    "### 編碼判讀\n",
    "\n",
    "    利用chardet 來知道任意字串的編碼 (BIG5、UTF-8之類的)\n",
    "    當字串給的越長時，準確度就越高"
   ]
  },
  {
   "cell_type": "code",
   "execution_count": 6,
   "metadata": {},
   "outputs": [
    {
     "name": "stdout",
     "output_type": "stream",
     "text": [
      "{'encoding': 'ascii', 'confidence': 1.0, 'language': ''}\n",
      "b'Hello World'\n"
     ]
    }
   ],
   "source": [
    "import chardet\n",
    "\n",
    "f = open('example1.txt','rb') \n",
    "# 'rb':binary mode read()返回 bytes，\n",
    "\n",
    "data = f.read()\n",
    "print(chardet.detect(data))\n",
    "\n",
    "print (data)\n"
   ]
  },
  {
   "cell_type": "code",
   "execution_count": 7,
   "metadata": {},
   "outputs": [
    {
     "name": "stdout",
     "output_type": "stream",
     "text": [
      ".git\n",
      ".ipynb_checkpoints\n",
      "01.ipynb\n",
      "1.txt\n",
      "Day001_HW.ipynb\n",
      "Day001_Sample.ipynb\n",
      "example-with.txt\n",
      "example.txt\n",
      "example1.txt\n",
      "example2.txt\n",
      "homework\n",
      "README.md\n",
      "{'encoding': 'utf-8', 'confidence': 0.938125, 'language': ''}\n",
      "b'\\xe5\\x97\\xa8\\xef\\xbc\\x8c\\xe4\\xbd\\xa0\\xe5\\xa5\\xbd'\n"
     ]
    }
   ],
   "source": [
    "dirs = os.listdir('./')\n",
    "for file in dirs:\n",
    "    print(file)\n",
    "    \n",
    "import chardet\n",
    "f = open('example2.txt','rb')  \n",
    "data = f.read()\n",
    "print(chardet.detect(data))\n",
    "\n",
    "print(data)\n",
    "#'rb'不會將讀取的位元組轉換成字元\n"
   ]
  },
  {
   "cell_type": "code",
   "execution_count": null,
   "metadata": {},
   "outputs": [],
   "source": []
  }
 ],
 "metadata": {
  "kernelspec": {
   "display_name": "Python 3",
   "language": "python",
   "name": "python3"
  },
  "language_info": {
   "codemirror_mode": {
    "name": "ipython",
    "version": 3
   },
   "file_extension": ".py",
   "mimetype": "text/x-python",
   "name": "python",
   "nbconvert_exporter": "python",
   "pygments_lexer": "ipython3",
   "version": "3.7.4"
  }
 },
 "nbformat": 4,
 "nbformat_minor": 2
}
